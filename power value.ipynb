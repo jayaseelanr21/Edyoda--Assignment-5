{
 "cells": [
  {
   "cell_type": "code",
   "execution_count": null,
   "id": "d18a08b7",
   "metadata": {},
   "outputs": [],
   "source": []
  },
  {
   "cell_type": "code",
   "execution_count": 6,
   "id": "0d30609f",
   "metadata": {},
   "outputs": [
    {
     "name": "stdout",
     "output_type": "stream",
     "text": [
      "Enter the number10\n",
      "Enter the power of the number2\n",
      "100\n"
     ]
    }
   ],
   "source": [
    "class powr:\n",
    "    def power(self):\n",
    "        result = 1\n",
    "        for i in range(self.powrr):\n",
    "            result = result * self.number\n",
    "        print(result)\n",
    "i= powr()\n",
    "i.number = int(input('Enter the number'))\n",
    "i.powrr = int(input(\"Enter the power of the number\"))\n",
    "i.power()"
   ]
  },
  {
   "cell_type": "code",
   "execution_count": null,
   "id": "534ba306",
   "metadata": {},
   "outputs": [],
   "source": []
  }
 ],
 "metadata": {
  "kernelspec": {
   "display_name": "Python 3 (ipykernel)",
   "language": "python",
   "name": "python3"
  },
  "language_info": {
   "codemirror_mode": {
    "name": "ipython",
    "version": 3
   },
   "file_extension": ".py",
   "mimetype": "text/x-python",
   "name": "python",
   "nbconvert_exporter": "python",
   "pygments_lexer": "ipython3",
   "version": "3.10.0"
  }
 },
 "nbformat": 4,
 "nbformat_minor": 5
}
